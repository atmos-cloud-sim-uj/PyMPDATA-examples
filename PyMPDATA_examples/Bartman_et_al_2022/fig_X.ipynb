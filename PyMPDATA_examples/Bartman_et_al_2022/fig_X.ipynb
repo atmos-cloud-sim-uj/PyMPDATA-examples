{
 "cells": [
  {
   "cell_type": "code",
   "execution_count": 1,
   "metadata": {},
   "outputs": [],
   "source": [
    "import os\n",
    "os.environ['DT'] = '.5'\n",
    "os.environ['NX'] = '32'\n",
    "os.environ['N_STEPS'] = '16'\n",
    "os.environ['N_ITERS'] = '3'\n",
    "os.environ['N_REPEATS'] = '5'\n",
    "os.environ['MAX_THREADS'] = '3'"
   ]
  },
  {
   "cell_type": "code",
   "execution_count": 2,
   "metadata": {},
   "outputs": [],
   "source": [
    "import subprocess\n",
    "import numpy as np\n",
    "import sys\n",
    "import json"
   ]
  },
  {
   "cell_type": "code",
   "execution_count": 3,
   "metadata": {},
   "outputs": [
    {
     "name": "stdout",
     "output_type": "stream",
     "text": [
      "{'1': 0.125215, '2': 0.0639015, '3': 0.0436632}\n"
     ]
    }
   ],
   "source": [
    "data_libmpdata = {}\n",
    "for n_thread in range(1, int(os.environ['MAX_THREADS'])+1):\n",
    "    value = np.inf\n",
    "    for _ in range(int(os.environ['N_REPEATS'])):\n",
    "        info = subprocess.run(\n",
    "            [\"build/revolving_sphere_3d\"],\n",
    "            capture_output=True,\n",
    "            env={**os.environ, \"OMP_NUM_THREADS\": str(n_thread)}\n",
    "        )\n",
    "        if info.returncode != 0:\n",
    "            print(info)\n",
    "            assert False\n",
    "        value = min(value, float(str(info.stderr).split(\" \")[3][:-1]))\n",
    "    data_libmpdata[str(n_thread)] = value\n",
    "print(data_libmpdata)"
   ]
  },
  {
   "cell_type": "code",
   "execution_count": null,
   "metadata": {},
   "outputs": [],
   "source": [
    "for ndj in ('0', '1'):\n",
    "    info = subprocess.run(\n",
    "        [sys.executable, \"revolving_sphere_3d.py\"],\n",
    "        capture_output=True,\n",
    "        env={**os.environ, 'NUMBA_DISABLE_JIT': ndj}\n",
    "    )\n",
    "    if info.returncode != 0:\n",
    "        print(info)\n",
    "        assert False\n",
    "data_pympdata = {}\n",
    "for ndj in ('0', '1'):\n",
    "    with open(f'data_NDJ={ndj}.json', 'r') as file:\n",
    "        for k, v in json.load(file).items():\n",
    "            data_pympdata[k] = v\n",
    "print(data_pympdata)"
   ]
  },
  {
   "cell_type": "code",
   "execution_count": null,
   "metadata": {},
   "outputs": [],
   "source": [
    "from matplotlib import pyplot\n",
    "from atmos_cloud_sim_uj_utils import show_plot\n",
    "\n",
    "fig, (ax1, ax2) = pyplot.subplots(2, 1, sharex=True)            \n",
    "handles = []\n",
    "\n",
    "for grid, marker in {'static': 'p', 'dynamic': '+'}.items():\n",
    "    handles.append(ax2.plot(\n",
    "        data_pympdata[grid].keys(), data_pympdata[grid].values(),\n",
    "        label=f'PyMPDATA: {grid} grid',\n",
    "        linewidth=2.5, marker=marker\n",
    "    )[0])\n",
    "handles.append(ax2.plot(\n",
    "    data_libmpdata.keys(), data_libmpdata.values(),\n",
    "    label=\"libmpdata++\",\n",
    "    linewidth=2.5, color='green', marker='o'\n",
    ")[0])\n",
    "\n",
    "x = data_pympdata['static'].keys()\n",
    "handles.append(ax1.plot(\n",
    "    x, [data_pympdata['nojit']]*len(x),\n",
    "    label='PyMPDATA: Numba JIT disabled',\n",
    "    linewidth=2.5, color='red'\n",
    ")[0])\n",
    "\n",
    "ax1.spines['bottom'].set_visible(False)\n",
    "ax2.spines['top'].set_visible(False)\n",
    "ax1.xaxis.tick_top()\n",
    "ax1.tick_params(labeltop=False)\n",
    "ax2.xaxis.tick_bottom()\n",
    "\n",
    "d = .0075  # how big to make the diagonal lines in axes coordinates\n",
    "# arguments to pass to plot, just so we don't keep repeating them\n",
    "kwargs = dict(transform=ax1.transAxes, color='k', clip_on=False)\n",
    "ax1.plot((-d, +d), (-d, +d), **kwargs)        # top-left diagonal\n",
    "ax1.plot((1 - d, 1 + d), (-d, +d), **kwargs)  # top-right diagonal\n",
    "\n",
    "kwargs.update(transform=ax2.transAxes)  # switch to the bottom axes\n",
    "ax2.plot((-d, +d), (1 - d, 1 + d), **kwargs)  # bottom-left diagonal\n",
    "ax2.plot((1 - d, 1 + d), (1 - d, 1 + d), **kwargs)  # bottom-right diagonal\n",
    "\n",
    "for ax in (ax1, ax2):\n",
    "    ax.grid()\n",
    "    ax.set_yscale('log')\n",
    "\n",
    "ax1.legend(handles=handles[-1::-1], loc='lower right')\n",
    "\n",
    "pyplot.xlabel(\"number of threads\")\n",
    "pyplot.ylabel(\"                                      wall time [s]\\n\")\n",
    "show_plot('fig_X.pdf')"
   ]
  },
  {
   "cell_type": "code",
   "execution_count": null,
   "metadata": {},
   "outputs": [],
   "source": []
  }
 ],
 "metadata": {
  "kernelspec": {
   "display_name": "Python 3",
   "language": "python",
   "name": "python3"
  },
  "language_info": {
   "codemirror_mode": {
    "name": "ipython",
    "version": 3
   },
   "file_extension": ".py",
   "mimetype": "text/x-python",
   "name": "python",
   "nbconvert_exporter": "python",
   "pygments_lexer": "ipython3",
   "version": "3.8.7"
  }
 },
 "nbformat": 4,
 "nbformat_minor": 4
}
